{
 "cells": [
  {
   "cell_type": "code",
   "execution_count": 65,
   "metadata": {},
   "outputs": [],
   "source": [
    "import os\n",
    "import pickle\n",
    "import string\n",
    "import random\n",
    "import itertools\n",
    "import numpy as np\n",
    "from collections import Counter\n",
    "from keras.utils import to_categorical\n",
    "from keras.preprocessing import sequence"
   ]
  },
  {
   "cell_type": "code",
   "execution_count": 16,
   "metadata": {},
   "outputs": [],
   "source": [
    "def modify_text(total_text_dict, line) :\n",
    "    x = line.split('\\t')[0].split('.')[0]\n",
    "    id = x\n",
    "    text = line.split('\\t')[1].split('.')[0]\n",
    "    text = text.translate(str.maketrans('', '', string.punctuation)) #removing punctuation\n",
    "    text = text.translate(str.maketrans('','','\\n')) #removing '\\n' explicitly\n",
    "    text = text.lower() #converting every word to lower alphabet\n",
    "    text = text.split() #converting string to list\n",
    "    text = [w for w in text if w.isalpha()] #removing numeric or alphanumeric data\n",
    "    if(id in total_text_dict) :\n",
    "        total_text_dict[id].append(text)\n",
    "    else :\n",
    "        total_text_dict.update({id : [text]})"
   ]
  },
  {
   "cell_type": "code",
   "execution_count": 17,
   "metadata": {},
   "outputs": [],
   "source": [
    "def create_vocabulary(corpus) :\n",
    "    counts = Counter(corpus)\n",
    "    vocabulary = {}\n",
    "    for w in counts :\n",
    "        if(counts[w] >= 10) :\n",
    "            vocabulary.update({w : counts[w]})\n",
    "    keys =  list(vocabulary.keys())\n",
    "    random.shuffle(keys)\n",
    "    dictionary = dict()\n",
    "    for key in keys:\n",
    "        dictionary.update({key : vocabulary[key]})\n",
    "    return dictionary"
   ]
  },
  {
   "cell_type": "code",
   "execution_count": 18,
   "metadata": {},
   "outputs": [],
   "source": [
    "def add_start_end(text_dict) :\n",
    "    for id in text_dict :\n",
    "        for i in range(5) :\n",
    "            text_dict[id][i].insert(0, 'start')\n",
    "            text_dict[id][i].append('end')"
   ]
  },
  {
   "cell_type": "code",
   "execution_count": 19,
   "metadata": {},
   "outputs": [],
   "source": [
    "train_dir = 'C:\\\\Anaconda\\\\envs\\\\deeplearning\\\\projects\\\\ImageCaptioning\\\\text\\\\Flickr_8k.trainImages.txt'\n",
    "dev_dir = 'C:\\\\Anaconda\\\\envs\\\\deeplearning\\\\projects\\\\ImageCaptioning\\\\text\\\\Flickr_8k.devImages.txt'\n",
    "text_file = 'C:\\\\Anaconda\\\\envs\\\\deeplearning\\\\projects\\\\ImageCaptioning\\\\text\\\\Flickr8k.token.txt'\n",
    "total_text_dict = {}\n",
    "train_data_name = []\n",
    "text_dict = {}\n",
    "uncommon_names = []\n",
    "\n",
    "with open(train_dir) as f1, open(dev_dir) as f2 :\n",
    "    lines1 = f1.readlines()\n",
    "    lines2 = f2.readlines()\n",
    "    for line1 in lines1 :\n",
    "        line1 = line1.split('.')[0]\n",
    "        train_data_name.append(line1)\n",
    "    for line2 in lines2 :\n",
    "        line2 = line2.split('.')[0]\n",
    "        train_data_name.append(line2)\n",
    "        \n",
    "\n",
    "with open(text_file) as file :\n",
    "    lines = file.readlines()\n",
    "    for line in lines :\n",
    "        modify_text(total_text_dict, line)\n",
    "\n",
    "for w in total_text_dict :\n",
    "    if(w not in train_data_name) :\n",
    "        uncommon_names.append(w)\n",
    "\n",
    "for w in uncommon_names :\n",
    "    if(w in total_text_dict) : \n",
    "        del total_text_dict[w]\n",
    "        \n",
    "text_dict = total_text_dict"
   ]
  },
  {
   "cell_type": "code",
   "execution_count": 20,
   "metadata": {},
   "outputs": [],
   "source": [
    "add_start_end(text_dict) #adding 'START' and 'END' to every sentence\n",
    "corpus = []\n",
    "captions = []\n",
    "for id in text_dict :\n",
    "    for i in range(5) :\n",
    "        captions.append(text_dict[id][i])\n",
    "        for w in text_dict[id][i] :\n",
    "            corpus.append(w)"
   ]
  },
  {
   "cell_type": "code",
   "execution_count": 21,
   "metadata": {},
   "outputs": [
    {
     "name": "stdout",
     "output_type": "stream",
     "text": [
      "Number of unique words in the vocabulary : 1799\n"
     ]
    }
   ],
   "source": [
    "vocabulary = create_vocabulary(corpus)\n",
    "word_index = dict((c, i) for i, c in enumerate(vocabulary)) #dictionary containing char as key, index as value\n",
    "index_word = dict((i, c) for i, c in enumerate(vocabulary)) #dictionary containing index as key, char as value\n",
    "num_classes = len(vocabulary)\n",
    "print(\"Number of unique words in the vocabulary :\",num_classes)"
   ]
  },
  {
   "cell_type": "code",
   "execution_count": 22,
   "metadata": {},
   "outputs": [
    {
     "name": "stdout",
     "output_type": "stream",
     "text": [
      "Maximum length of caption is :  37\n"
     ]
    }
   ],
   "source": [
    "maxlen = 0\n",
    "maxlen = [len(w) for w in captions if len(w) > maxlen]\n",
    "maxlen = max(maxlen)\n",
    "print(\"Maximum length of caption is : \", maxlen)"
   ]
  },
  {
   "cell_type": "code",
   "execution_count": 23,
   "metadata": {},
   "outputs": [],
   "source": [
    "with open('transfer_train_data', \"rb\") as fp:\n",
    "    transferred_features = pickle.load(fp)\n",
    "\n",
    "for w in uncommon_names :\n",
    "    if(w in transferred_features) : \n",
    "        del transferred_features[w]"
   ]
  },
  {
   "cell_type": "code",
   "execution_count": 14,
   "metadata": {},
   "outputs": [],
   "source": [
    "with open('vocabulary', 'wb') as fp :\n",
    "    pickle.dump(word_index, fp)"
   ]
  },
  {
   "cell_type": "code",
   "execution_count": 209,
   "metadata": {},
   "outputs": [],
   "source": [
    "def data_generator(text_dict, word_index, batch_size, transferred_features, maxlen, num_classes) :\n",
    "    image = []\n",
    "    next_word = []\n",
    "    sentence = []\n",
    "    num_images = 0\n",
    "    while True : \n",
    "        for img, id in zip(transferred_features, text_dict) :\n",
    "                description = text_dict[id]\n",
    "                image.append(transferred_features[img])\n",
    "                print(np.shape(image))\n",
    "                for k in range(5) :\n",
    "                    temp = [word_index[word] for word in description[k] if word in word_index]\n",
    "                    for i in range(1, len(temp)) :\n",
    "                        input_temp, output_temp = temp[:i], temp[i]\n",
    "                        input_temp = sequence.pad_sequences([input_temp], maxlen = maxlen)[0]\n",
    "                        word_temp = to_categorical([output_temp], num_classes = num_classes)[0]\n",
    "                        image.append(input_temp)\n",
    "                        next_word.append(word_temp)\n",
    "                        sentence.append(input_temp)\n",
    "                num_images += 1\n",
    "                if(num_images == batch_size):\n",
    "                    yield ([np.array(image), np.array(sentence)], np.array(next_word))\n",
    "                    image, sentence, next_word = [], [], []\n",
    "                    num_images = 0 "
   ]
  },
  {
   "cell_type": "code",
   "execution_count": 210,
   "metadata": {},
   "outputs": [],
   "source": [
    "generator =  data_generator(text_dict, word_index, 1, transferred_features, maxlen, num_classes)"
   ]
  },
  {
   "cell_type": "code",
   "execution_count": null,
   "metadata": {},
   "outputs": [],
   "source": []
  }
 ],
 "metadata": {
  "kernelspec": {
   "display_name": "Python 3",
   "language": "python",
   "name": "python3"
  },
  "language_info": {
   "codemirror_mode": {
    "name": "ipython",
    "version": 3
   },
   "file_extension": ".py",
   "mimetype": "text/x-python",
   "name": "python",
   "nbconvert_exporter": "python",
   "pygments_lexer": "ipython3",
   "version": "3.7.5"
  }
 },
 "nbformat": 4,
 "nbformat_minor": 2
}
