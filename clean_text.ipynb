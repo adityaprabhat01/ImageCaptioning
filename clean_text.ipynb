{
 "cells": [
  {
   "cell_type": "code",
   "execution_count": 1,
   "metadata": {},
   "outputs": [
    {
     "name": "stderr",
     "output_type": "stream",
     "text": [
      "Using TensorFlow backend.\n"
     ]
    }
   ],
   "source": [
    "import os\n",
    "import pickle\n",
    "import string\n",
    "import random\n",
    "import itertools\n",
    "import numpy as np\n",
    "from collections import Counter\n",
    "from keras.models import load_model\n",
    "from keras.utils import to_categorical\n",
    "from keras.preprocessing import sequence"
   ]
  },
  {
   "cell_type": "code",
   "execution_count": 2,
   "metadata": {},
   "outputs": [],
   "source": [
    "def modify_text(total_text_dict, line) :\n",
    "    x = line.split('\\t')[0].split('.')[0]\n",
    "    id = x\n",
    "    text = line.split('\\t')[1].split('.')[0]\n",
    "    text = text.translate(str.maketrans('', '', string.punctuation)) #removing punctuation\n",
    "    text = text.translate(str.maketrans('','','\\n')) #removing '\\n' explicitly\n",
    "    text = text.lower() #converting every word to lower alphabet\n",
    "    text = text.split() #converting string to list\n",
    "    text = [w for w in text if w.isalpha()] #removing numeric or alphanumeric data\n",
    "    if(id in total_text_dict) :\n",
    "        total_text_dict[id].append(text)\n",
    "    else :\n",
    "        total_text_dict.update({id : [text]})"
   ]
  },
  {
   "cell_type": "code",
   "execution_count": 3,
   "metadata": {},
   "outputs": [],
   "source": [
    "glove = r'C:\\Anaconda\\envs\\deeplearning\\Projects\\ImageCaptioning\\glove.6B.200d.txt'\n",
    "glove_vocab = []\n",
    "with open(glove, encoding = 'utf8') as file :\n",
    "    glove_embeddings = {}\n",
    "    lines = file.readlines()\n",
    "    for line in lines :\n",
    "        glove_vocab.append(line.split()[0])"
   ]
  },
  {
   "cell_type": "code",
   "execution_count": 4,
   "metadata": {},
   "outputs": [],
   "source": [
    "def create_vocabulary(corpus) :\n",
    "    counts = Counter(corpus)\n",
    "    vocabulary = {}\n",
    "    for w in counts :\n",
    "        if(counts[w] >= 10 and w in glove_vocab) :\n",
    "            vocabulary.update({w : counts[w]})\n",
    "    keys =  list(vocabulary.keys())\n",
    "    random.shuffle(keys)\n",
    "    dictionary = dict()\n",
    "    for key in keys:\n",
    "        dictionary.update({key : vocabulary[key]})\n",
    "    return dictionary"
   ]
  },
  {
   "cell_type": "code",
   "execution_count": 5,
   "metadata": {},
   "outputs": [],
   "source": [
    "def add_start_end(text_dict) :\n",
    "    for id in text_dict :\n",
    "        for i in range(5) :\n",
    "            text_dict[id][i].insert(0, 'start')\n",
    "            text_dict[id][i].append('end')"
   ]
  },
  {
   "cell_type": "code",
   "execution_count": 6,
   "metadata": {},
   "outputs": [],
   "source": [
    "train_dir = 'C:\\\\Anaconda\\\\envs\\\\deeplearning\\\\projects\\\\ImageCaptioning\\\\text\\\\Flickr_8k.trainImages.txt'\n",
    "dev_dir = 'C:\\\\Anaconda\\\\envs\\\\deeplearning\\\\projects\\\\ImageCaptioning\\\\text\\\\Flickr_8k.devImages.txt'\n",
    "text_file = 'C:\\\\Anaconda\\\\envs\\\\deeplearning\\\\projects\\\\ImageCaptioning\\\\text\\\\Flickr8k.token.txt'\n",
    "total_text_dict = {}\n",
    "train_data_name = []\n",
    "text_dict = {}\n",
    "uncommon_names = []\n",
    "\n",
    "with open(train_dir) as f1, open(dev_dir) as f2 :\n",
    "    lines1 = f1.readlines()\n",
    "    lines2 = f2.readlines()\n",
    "    for line1 in lines1 :\n",
    "        line1 = line1.split('.')[0]\n",
    "        train_data_name.append(line1)\n",
    "    for line2 in lines2 :\n",
    "        line2 = line2.split('.')[0]\n",
    "        train_data_name.append(line2)\n",
    "        \n",
    "\n",
    "with open(text_file) as file :\n",
    "    lines = file.readlines()\n",
    "    for line in lines :\n",
    "        modify_text(total_text_dict, line)\n",
    "\n",
    "for w in total_text_dict :\n",
    "    if(w not in train_data_name) :\n",
    "        uncommon_names.append(w)\n",
    "\n",
    "for w in uncommon_names :\n",
    "    if(w in total_text_dict) : \n",
    "        del total_text_dict[w]\n",
    "        \n",
    "text_dict = total_text_dict"
   ]
  },
  {
   "cell_type": "code",
   "execution_count": 7,
   "metadata": {},
   "outputs": [],
   "source": [
    "add_start_end(text_dict) #adding 'START' and 'END' to every sentence\n",
    "corpus = []\n",
    "captions = []\n",
    "for id in text_dict :\n",
    "    for i in range(5) :\n",
    "        captions.append(text_dict[id][i])\n",
    "        for w in text_dict[id][i] :\n",
    "            corpus.append(w)"
   ]
  },
  {
   "cell_type": "code",
   "execution_count": 8,
   "metadata": {},
   "outputs": [
    {
     "name": "stdout",
     "output_type": "stream",
     "text": [
      "Number of unique words in the vocabulary : 1792\n"
     ]
    }
   ],
   "source": [
    "vocabulary = create_vocabulary(corpus)\n",
    "word_index = dict((c, i) for i, c in enumerate(vocabulary)) #dictionary containing char as key, index as value\n",
    "index_word = dict((i, c) for i, c in enumerate(vocabulary)) #dictionary containing index as key, char as value\n",
    "num_classes = len(vocabulary)\n",
    "print(\"Number of unique words in the vocabulary :\",num_classes)"
   ]
  },
  {
   "cell_type": "code",
   "execution_count": 9,
   "metadata": {},
   "outputs": [
    {
     "name": "stdout",
     "output_type": "stream",
     "text": [
      "Maximum length of caption is :  39\n"
     ]
    }
   ],
   "source": [
    "maxlen = 0\n",
    "maxlen = [len(w) for w in captions if len(w) > maxlen]\n",
    "maxlen = max(maxlen) + 2\n",
    "print(\"Maximum length of caption is : \", maxlen)"
   ]
  },
  {
   "cell_type": "code",
   "execution_count": 10,
   "metadata": {},
   "outputs": [],
   "source": [
    "with open('transfer_train_data', \"rb\") as fp:\n",
    "    transferred_features = pickle.load(fp)\n",
    "\n",
    "for w in uncommon_names :\n",
    "    if(w in transferred_features) : \n",
    "        del transferred_features[w]"
   ]
  },
  {
   "cell_type": "code",
   "execution_count": 11,
   "metadata": {},
   "outputs": [],
   "source": [
    "with open('vocabulary', 'wb') as fp :\n",
    "    pickle.dump(word_index, fp)"
   ]
  },
  {
   "cell_type": "code",
   "execution_count": 12,
   "metadata": {},
   "outputs": [],
   "source": [
    "def data_generator(text_dict, word_index, batch_size, transferred_features, maxlen, num_classes) :\n",
    "    while True :\n",
    "        input_1, input_2, output = [], [], []\n",
    "        num_images = 0\n",
    "        for id, descriptions in text_dict.items() :\n",
    "            image = transferred_features[id]\n",
    "            for description in descriptions :\n",
    "                sequences = [word_index[word] for word in description if word in word_index]\n",
    "                for i in range(1, len(sequences)) :\n",
    "                    sequence_input, word_output = sequences[:i], sequences[i]\n",
    "                    sequence_input = sequence.pad_sequences([sequence_input], maxlen = maxlen)[0]\n",
    "                    word_output = to_categorical([word_output], num_classes = num_classes)[0]\n",
    "                    input_1.append(image)\n",
    "                    input_2.append(sequence_input)\n",
    "                    output.append(word_output)\n",
    "            num_images += 1\n",
    "            if(num_images == batch_size) :\n",
    "                yield ([np.array(input_1), np.array(input_2)], np.array(output))\n",
    "                input_1, input_2, output = [], [], []\n",
    "                num_images = 0"
   ]
  },
  {
   "cell_type": "raw",
   "metadata": {},
   "source": [
    "    k=0\n",
    "    input_1, input_2, output = [], [], []\n",
    "    num_images = 0\n",
    "    for id, descriptions in text_dict.items() :\n",
    "        image = transferred_features[id]\n",
    "        for description in descriptions :\n",
    "            sequences = [word_index[word] for word in description if word in word_index]\n",
    "            for i in range(1, len(sequences)) :\n",
    "                sequence_input, word_output = sequences[:i], sequences[i]\n",
    "                sequence_input = sequence.pad_sequences([sequence_input], maxlen = maxlen)[0]\n",
    "                word_output = to_categorical([word_output], num_classes = num_classes)[0]\n",
    "                input_1.append(image)\n",
    "                input_2.append(sequence_input)\n",
    "                output.append(word_output)\n",
    "        k+=1\n",
    "        #num_images += 1\n",
    "        #if(num_images == 2) :\n",
    "        #    input_1, input_2, output = [], [], []\n",
    "        #    num_images = 0\n",
    "        if(k==2):\n",
    "            break    "
   ]
  },
  {
   "cell_type": "raw",
   "metadata": {},
   "source": [
    "with open('transfer_train_data', 'rb') as fp :\n",
    "    images = pickle.load(fp)"
   ]
  },
  {
   "cell_type": "code",
   "execution_count": 14,
   "metadata": {},
   "outputs": [],
   "source": [
    "model = load_model('model.h5')"
   ]
  },
  {
   "cell_type": "raw",
   "metadata": {},
   "source": [
    "def generateCaption(photo):\n",
    "    in_text = 'start'\n",
    "    photo = np.reshape(photo, (1,2048))\n",
    "    for i in range(maxlen):\n",
    "        sequences = [word_index[w] for w in in_text.split() if w in word_index]\n",
    "        sequences = sequence.pad_sequences([sequences], maxlen=maxlen)\n",
    "        yhat = model.predict([photo, sequences], verbose=0)\n",
    "        yhat = np.argmax(yhat)\n",
    "        word = index_word[yhat]\n",
    "        in_text += ' ' + word\n",
    "        if word == 'end':\n",
    "            break\n",
    "    final = in_text.split()\n",
    "    #final = final[1:-1]\n",
    "    #final = ' '.join(final)\n",
    "    return final"
   ]
  },
  {
   "cell_type": "raw",
   "metadata": {},
   "source": [
    "generateCaption(images['1002674143_1b742ab4b8'])"
   ]
  },
  {
   "cell_type": "code",
   "execution_count": null,
   "metadata": {},
   "outputs": [],
   "source": []
  }
 ],
 "metadata": {
  "kernelspec": {
   "display_name": "Python 3",
   "language": "python",
   "name": "python3"
  },
  "language_info": {
   "codemirror_mode": {
    "name": "ipython",
    "version": 3
   },
   "file_extension": ".py",
   "mimetype": "text/x-python",
   "name": "python",
   "nbconvert_exporter": "python",
   "pygments_lexer": "ipython3",
   "version": "3.7.5"
  }
 },
 "nbformat": 4,
 "nbformat_minor": 2
}
