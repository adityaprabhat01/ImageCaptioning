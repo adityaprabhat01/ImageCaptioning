{
 "cells": [
  {
   "cell_type": "code",
   "execution_count": 49,
   "metadata": {},
   "outputs": [],
   "source": [
    "import pickle\n",
    "import random\n",
    "import numpy as np\n",
    "from keras.preprocessing import text"
   ]
  },
  {
   "cell_type": "code",
   "execution_count": 21,
   "metadata": {},
   "outputs": [],
   "source": [
    "glove = r'C:\\Anaconda\\envs\\deeplearning\\Projects\\ImageCaptioning\\glove.6B.100d.txt'"
   ]
  },
  {
   "cell_type": "code",
   "execution_count": 26,
   "metadata": {},
   "outputs": [],
   "source": [
    "with open('vocabulary', \"rb\") as fp:\n",
    "    vocabulary = pickle.load(fp)"
   ]
  },
  {
   "cell_type": "code",
   "execution_count": 9,
   "metadata": {},
   "outputs": [],
   "source": [
    "with open(glove, encoding = 'utf8') as file :\n",
    "    glove_embeddings = {}\n",
    "    lines = file.readlines()\n",
    "    for line in lines :\n",
    "        word = line.split()[0]\n",
    "        values = line.split()[1:]\n",
    "        glove_embeddings.update({word : values})"
   ]
  },
  {
   "cell_type": "code",
   "execution_count": 67,
   "metadata": {},
   "outputs": [],
   "source": [
    "embeddings = np.zeros((1792,100))\n",
    "i=0\n",
    "for word in vocabulary :\n",
    "        weights = glove_embeddings.get(word)\n",
    "        if(weights is None) :\n",
    "            i-=1\n",
    "        embeddings[i] = weights\n",
    "        i+=1"
   ]
  },
  {
   "cell_type": "code",
   "execution_count": 72,
   "metadata": {},
   "outputs": [],
   "source": [
    "with open('embeddings', 'wb') as fp :\n",
    "    pickle.dump(embeddings, fp)"
   ]
  },
  {
   "cell_type": "code",
   "execution_count": null,
   "metadata": {},
   "outputs": [],
   "source": []
  }
 ],
 "metadata": {
  "kernelspec": {
   "display_name": "Python 3",
   "language": "python",
   "name": "python3"
  },
  "language_info": {
   "codemirror_mode": {
    "name": "ipython",
    "version": 3
   },
   "file_extension": ".py",
   "mimetype": "text/x-python",
   "name": "python",
   "nbconvert_exporter": "python",
   "pygments_lexer": "ipython3",
   "version": "3.7.5"
  }
 },
 "nbformat": 4,
 "nbformat_minor": 2
}
